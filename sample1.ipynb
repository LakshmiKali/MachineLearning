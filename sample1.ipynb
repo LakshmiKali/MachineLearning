{
 "cells": [
  {
   "cell_type": "code",
   "execution_count": 2,
   "metadata": {},
   "outputs": [
    {
     "name": "stdout",
     "output_type": "stream",
     "text": [
      "Collecting fuzzywuzzy\n",
      "  Downloading fuzzywuzzy-0.18.0-py2.py3-none-any.whl (18 kB)\n",
      "Installing collected packages: fuzzywuzzy\n",
      "Successfully installed fuzzywuzzy-0.18.0\n",
      "Note: you may need to restart the kernel to use updated packages.\n"
     ]
    }
   ],
   "source": [
    "pip install fuzzywuzzy"
   ]
  },
  {
   "cell_type": "code",
   "execution_count": 10,
   "metadata": {},
   "outputs": [],
   "source": [
    "from fuzzywuzzy import fuzz, process"
   ]
  },
  {
   "cell_type": "code",
   "execution_count": 11,
   "metadata": {},
   "outputs": [],
   "source": [
    "companies = ['The International Business Machines Corporation','IBM','General Electric','Long Term Care Group','Young Innovations Inc']\n",
    "abbreviations = ['YI LLC','LTCG Holdings Corp','IBM','GE Company','The International Business Machines Corporation']\n",
    "\n",
    "queries = [''.join([i[0] for i in j.split()]) for j in companies]\n",
    "\n"
   ]
  },
  {
   "cell_type": "code",
   "execution_count": 12,
   "metadata": {},
   "outputs": [
    {
     "name": "stdout",
     "output_type": "stream",
     "text": [
      "['TIBMC', 'I', 'GE', 'LTCG', 'YII']\n"
     ]
    }
   ],
   "source": [
    "print(queries)"
   ]
  },
  {
   "cell_type": "code",
   "execution_count": 13,
   "metadata": {},
   "outputs": [
    {
     "name": "stdout",
     "output_type": "stream",
     "text": [
      "TIBMC [('IBM', 100), ('LTCG Holdings Corp', 50), ('The International Business Machines Corporation', 40), ('YI LLC', 29), ('GE Company', 20)]\n",
      "I [('YI LLC', 100), ('LTCG Holdings Corp', 100), ('IBM', 100), ('The International Business Machines Corporation', 100), ('GE Company', 0)]\n",
      "GE [('GE Company', 100), ('LTCG Holdings Corp', 50), ('The International Business Machines Corporation', 50), ('YI LLC', 0), ('IBM', 0)]\n",
      "LTCG [('LTCG Holdings Corp', 100), ('YI LLC', 50), ('GE Company', 25), ('The International Business Machines Corporation', 25), ('IBM', 0)]\n",
      "YII [('YI LLC', 80), ('LTCG Holdings Corp', 33), ('IBM', 33), ('GE Company', 33), ('The International Business Machines Corporation', 33)]\n"
     ]
    }
   ],
   "source": [
    "for company in queries:\n",
    "    print(company, process.extract(company, abbreviations, scorer=fuzz.partial_token_sort_ratio))"
   ]
  },
  {
   "cell_type": "code",
   "execution_count": 14,
   "metadata": {},
   "outputs": [
    {
     "name": "stdout",
     "output_type": "stream",
     "text": [
      "The International Business Machines Corporation - ('IBM', 100)\n",
      "IBM - ('YI LLC', 100)\n",
      "General Electric - ('GE Company', 100)\n",
      "Long Term Care Group - ('LTCG Holdings Corp', 100)\n",
      "Young Innovations Inc - ('YI LLC', 80)\n"
     ]
    }
   ],
   "source": [
    "for query, company in zip(queries, companies):\n",
    "    print(company, '-', process.extractOne(query, abbreviations, scorer=fuzz.partial_token_sort_ratio))"
   ]
  },
  {
   "cell_type": "code",
   "execution_count": 15,
   "metadata": {},
   "outputs": [
    {
     "name": "stdout",
     "output_type": "stream",
     "text": [
      "All 3-grams in \"McDonalds\":\n"
     ]
    },
    {
     "data": {
      "text/plain": [
       "['McD', 'cDo', 'Don', 'ona', 'nal', 'ald', 'lds']"
      ]
     },
     "execution_count": 15,
     "metadata": {},
     "output_type": "execute_result"
    }
   ],
   "source": [
    "import re\n",
    "\n",
    "def ngrams(string, n=3):\n",
    "    string = re.sub(r'[,-./]|\\sBD',r'', string)\n",
    "    ngrams = zip(*[string[i:] for i in range(n)])\n",
    "    return [''.join(ngram) for ngram in ngrams]\n",
    "\n",
    "print('All 3-grams in \"McDonalds\":')\n",
    "ngrams('McDonalds')"
   ]
  },
  {
   "cell_type": "code",
   "execution_count": 19,
   "metadata": {},
   "outputs": [
    {
     "name": "stdout",
     "output_type": "stream",
     "text": [
      "['The International Business Machines Corporation', 'IBM', 'General Electric', 'Long Term Care Group', 'Young Innovations Inc']\n"
     ]
    }
   ],
   "source": [
    "print(companies)"
   ]
  },
  {
   "cell_type": "code",
   "execution_count": 17,
   "metadata": {},
   "outputs": [],
   "source": [
    "from sklearn.feature_extraction.text import TfidfVectorizer\n",
    "\n",
    "#company_names = names['Company Name']\n",
    "vectorizer = TfidfVectorizer(min_df=1, analyzer=ngrams)\n",
    "tf_idf_matrix = vectorizer.fit_transform(companies)"
   ]
  },
  {
   "cell_type": "code",
   "execution_count": 18,
   "metadata": {},
   "outputs": [
    {
     "name": "stdout",
     "output_type": "stream",
     "text": [
      "  (0, 67)\t0.14126206694952942\n",
      "  (0, 60)\t0.14126206694952942\n",
      "  (0, 65)\t0.14126206694952942\n",
      "  (0, 73)\t0.14126206694952942\n",
      "  (0, 61)\t0.14126206694952942\n",
      "  (0, 10)\t0.14126206694952942\n",
      "  (0, 2)\t0.14126206694952942\n",
      "  (0, 74)\t0.14126206694952942\n",
      "  (0, 36)\t0.14126206694952942\n",
      "  (0, 41)\t0.14126206694952942\n",
      "  (0, 27)\t0.14126206694952942\n",
      "  (0, 23)\t0.14126206694952942\n",
      "  (0, 19)\t0.14126206694952942\n",
      "  (0, 6)\t0.14126206694952942\n",
      "  (0, 76)\t0.14126206694952942\n",
      "  (0, 78)\t0.14126206694952942\n",
      "  (0, 37)\t0.14126206694952942\n",
      "  (0, 51)\t0.28252413389905884\n",
      "  (0, 42)\t0.28252413389905884\n",
      "  (0, 77)\t0.14126206694952942\n",
      "  (0, 83)\t0.14126206694952942\n",
      "  (0, 8)\t0.14126206694952942\n",
      "  (0, 0)\t0.14126206694952942\n",
      "  (0, 44)\t0.14126206694952942\n",
      "  (0, 24)\t0.11396934615657885\n",
      "  (0, 48)\t0.14126206694952942\n",
      "  (0, 57)\t0.14126206694952942\n",
      "  (0, 43)\t0.2279386923131577\n",
      "  (0, 80)\t0.2279386923131577\n",
      "  (0, 26)\t0.2279386923131577\n",
      "  (0, 49)\t0.14126206694952942\n",
      "  (0, 71)\t0.14126206694952942\n",
      "  (0, 35)\t0.14126206694952942\n",
      "  (0, 79)\t0.14126206694952942\n",
      "  (0, 56)\t0.14126206694952942\n",
      "  (0, 17)\t0.14126206694952942\n",
      "  (0, 5)\t0.11396934615657885\n",
      "  (0, 30)\t0.14126206694952942\n",
      "  (0, 40)\t0.14126206694952942\n",
      "  (0, 21)\t0.14126206694952942\n"
     ]
    }
   ],
   "source": [
    "print(tf_idf_matrix[0])"
   ]
  },
  {
   "cell_type": "code",
   "execution_count": 23,
   "metadata": {},
   "outputs": [
    {
     "ename": "ModuleNotFoundError",
     "evalue": "No module named 'sparse_dot_topn'",
     "output_type": "error",
     "traceback": [
      "\u001b[1;31m---------------------------------------------------------------------------\u001b[0m",
      "\u001b[1;31mModuleNotFoundError\u001b[0m                       Traceback (most recent call last)",
      "\u001b[1;32m<ipython-input-23-bf399f7a06d0>\u001b[0m in \u001b[0;36m<module>\u001b[1;34m\u001b[0m\n\u001b[0;32m      1\u001b[0m \u001b[1;32mimport\u001b[0m \u001b[0mnumpy\u001b[0m \u001b[1;32mas\u001b[0m \u001b[0mnp\u001b[0m\u001b[1;33m\u001b[0m\u001b[1;33m\u001b[0m\u001b[0m\n\u001b[0;32m      2\u001b[0m \u001b[1;32mfrom\u001b[0m \u001b[0mscipy\u001b[0m\u001b[1;33m.\u001b[0m\u001b[0msparse\u001b[0m \u001b[1;32mimport\u001b[0m \u001b[0mcsr_matrix\u001b[0m\u001b[1;33m\u001b[0m\u001b[1;33m\u001b[0m\u001b[0m\n\u001b[1;32m----> 3\u001b[1;33m \u001b[1;32mimport\u001b[0m \u001b[0msparse_dot_topn\u001b[0m\u001b[1;33m.\u001b[0m\u001b[0msparse_dot_topn\u001b[0m \u001b[1;32mas\u001b[0m \u001b[0mct\u001b[0m\u001b[1;33m\u001b[0m\u001b[1;33m\u001b[0m\u001b[0m\n\u001b[0m",
      "\u001b[1;31mModuleNotFoundError\u001b[0m: No module named 'sparse_dot_topn'"
     ]
    }
   ],
   "source": [
    "import numpy as np\n",
    "from scipy.sparse import csr_matrix\n",
    "import sparse_dot_topn.sparse_dot_topn as ct"
   ]
  },
  {
   "cell_type": "code",
   "execution_count": 24,
   "metadata": {},
   "outputs": [
    {
     "name": "stdout",
     "output_type": "stream",
     "text": [
      "Collecting sparse_dot_topn\n",
      "  Using cached sparse_dot_topn-0.2.9.tar.gz (106 kB)\n",
      "Requirement already satisfied: setuptools>=18.0 in c:\\users\\lakie\\anaconda3\\lib\\site-packages (from sparse_dot_topn) (49.2.0.post20200714)\n",
      "Requirement already satisfied: cython>=0.29.15 in c:\\users\\lakie\\anaconda3\\lib\\site-packages (from sparse_dot_topn) (0.29.21)\n",
      "Requirement already satisfied: numpy>=1.16.6 in c:\\users\\lakie\\anaconda3\\lib\\site-packages (from sparse_dot_topn) (1.18.5)\n",
      "Requirement already satisfied: scipy>=1.2.3 in c:\\users\\lakie\\anaconda3\\lib\\site-packages (from sparse_dot_topn) (1.5.0)\n",
      "Building wheels for collected packages: sparse-dot-topn\n",
      "  Building wheel for sparse-dot-topn (setup.py): started\n",
      "  Building wheel for sparse-dot-topn (setup.py): finished with status 'error'\n",
      "  Running setup.py clean for sparse-dot-topn\n",
      "Failed to build sparse-dot-topn\n",
      "Installing collected packages: sparse-dot-topn\n",
      "    Running setup.py install for sparse-dot-topn: started\n",
      "    Running setup.py install for sparse-dot-topn: finished with status 'error'\n",
      "Note: you may need to restart the kernel to use updated packages.\n"
     ]
    },
    {
     "name": "stderr",
     "output_type": "stream",
     "text": [
      "  ERROR: Command errored out with exit status 1:\n",
      "   command: 'C:\\Users\\lakie\\anaconda3\\python.exe' -u -c 'import sys, setuptools, tokenize; sys.argv[0] = '\"'\"'C:\\\\Users\\\\lakie\\\\AppData\\\\Local\\\\Temp\\\\pip-install-t26plqkz\\\\sparse-dot-topn\\\\setup.py'\"'\"'; __file__='\"'\"'C:\\\\Users\\\\lakie\\\\AppData\\\\Local\\\\Temp\\\\pip-install-t26plqkz\\\\sparse-dot-topn\\\\setup.py'\"'\"';f=getattr(tokenize, '\"'\"'open'\"'\"', open)(__file__);code=f.read().replace('\"'\"'\\r\\n'\"'\"', '\"'\"'\\n'\"'\"');f.close();exec(compile(code, __file__, '\"'\"'exec'\"'\"'))' bdist_wheel -d 'C:\\Users\\lakie\\AppData\\Local\\Temp\\pip-wheel-spwzs2xa'\n",
      "       cwd: C:\\Users\\lakie\\AppData\\Local\\Temp\\pip-install-t26plqkz\\sparse-dot-topn\\\n",
      "  Complete output (13 lines):\n",
      "  running bdist_wheel\n",
      "  running build\n",
      "  running build_py\n",
      "  creating build\n",
      "  creating build\\lib.win-amd64-3.8\n",
      "  creating build\\lib.win-amd64-3.8\\sparse_dot_topn\n",
      "  copying sparse_dot_topn\\awesome_cossim_topn.py -> build\\lib.win-amd64-3.8\\sparse_dot_topn\n",
      "  copying sparse_dot_topn\\__init__.py -> build\\lib.win-amd64-3.8\\sparse_dot_topn\n",
      "  running build_ext\n",
      "  skipping './sparse_dot_topn\\sparse_dot_topn.cpp' Cython extension (up-to-date)\n",
      "  skipping './sparse_dot_topn\\sparse_dot_topn_threaded.cpp' Cython extension (up-to-date)\n",
      "  building 'sparse_dot_topn.sparse_dot_topn' extension\n",
      "  error: Microsoft Visual C++ 14.0 is required. Get it with \"Build Tools for Visual Studio\": https://visualstudio.microsoft.com/downloads/\n",
      "  ----------------------------------------\n",
      "  ERROR: Failed building wheel for sparse-dot-topn\n",
      "    ERROR: Command errored out with exit status 1:\n",
      "     command: 'C:\\Users\\lakie\\anaconda3\\python.exe' -u -c 'import sys, setuptools, tokenize; sys.argv[0] = '\"'\"'C:\\\\Users\\\\lakie\\\\AppData\\\\Local\\\\Temp\\\\pip-install-t26plqkz\\\\sparse-dot-topn\\\\setup.py'\"'\"'; __file__='\"'\"'C:\\\\Users\\\\lakie\\\\AppData\\\\Local\\\\Temp\\\\pip-install-t26plqkz\\\\sparse-dot-topn\\\\setup.py'\"'\"';f=getattr(tokenize, '\"'\"'open'\"'\"', open)(__file__);code=f.read().replace('\"'\"'\\r\\n'\"'\"', '\"'\"'\\n'\"'\"');f.close();exec(compile(code, __file__, '\"'\"'exec'\"'\"'))' install --record 'C:\\Users\\lakie\\AppData\\Local\\Temp\\pip-record-ejzoc183\\install-record.txt' --single-version-externally-managed --compile --install-headers 'C:\\Users\\lakie\\anaconda3\\Include\\sparse-dot-topn'\n",
      "         cwd: C:\\Users\\lakie\\AppData\\Local\\Temp\\pip-install-t26plqkz\\sparse-dot-topn\\\n",
      "    Complete output (13 lines):\n",
      "    running install\n",
      "    running build\n",
      "    running build_py\n",
      "    creating build\n",
      "    creating build\\lib.win-amd64-3.8\n",
      "    creating build\\lib.win-amd64-3.8\\sparse_dot_topn\n",
      "    copying sparse_dot_topn\\awesome_cossim_topn.py -> build\\lib.win-amd64-3.8\\sparse_dot_topn\n",
      "    copying sparse_dot_topn\\__init__.py -> build\\lib.win-amd64-3.8\\sparse_dot_topn\n",
      "    running build_ext\n",
      "    skipping './sparse_dot_topn\\sparse_dot_topn.cpp' Cython extension (up-to-date)\n",
      "    skipping './sparse_dot_topn\\sparse_dot_topn_threaded.cpp' Cython extension (up-to-date)\n",
      "    building 'sparse_dot_topn.sparse_dot_topn' extension\n",
      "    error: Microsoft Visual C++ 14.0 is required. Get it with \"Build Tools for Visual Studio\": https://visualstudio.microsoft.com/downloads/\n",
      "    ----------------------------------------\n",
      "ERROR: Command errored out with exit status 1: 'C:\\Users\\lakie\\anaconda3\\python.exe' -u -c 'import sys, setuptools, tokenize; sys.argv[0] = '\"'\"'C:\\\\Users\\\\lakie\\\\AppData\\\\Local\\\\Temp\\\\pip-install-t26plqkz\\\\sparse-dot-topn\\\\setup.py'\"'\"'; __file__='\"'\"'C:\\\\Users\\\\lakie\\\\AppData\\\\Local\\\\Temp\\\\pip-install-t26plqkz\\\\sparse-dot-topn\\\\setup.py'\"'\"';f=getattr(tokenize, '\"'\"'open'\"'\"', open)(__file__);code=f.read().replace('\"'\"'\\r\\n'\"'\"', '\"'\"'\\n'\"'\"');f.close();exec(compile(code, __file__, '\"'\"'exec'\"'\"'))' install --record 'C:\\Users\\lakie\\AppData\\Local\\Temp\\pip-record-ejzoc183\\install-record.txt' --single-version-externally-managed --compile --install-headers 'C:\\Users\\lakie\\anaconda3\\Include\\sparse-dot-topn' Check the logs for full command output.\n"
     ]
    }
   ],
   "source": [
    "pip install sparse_dot_topn"
   ]
  },
  {
   "cell_type": "code",
   "execution_count": 25,
   "metadata": {},
   "outputs": [
    {
     "ename": "ModuleNotFoundError",
     "evalue": "No module named 'Levenshtein'",
     "output_type": "error",
     "traceback": [
      "\u001b[1;31m---------------------------------------------------------------------------\u001b[0m",
      "\u001b[1;31mModuleNotFoundError\u001b[0m                       Traceback (most recent call last)",
      "\u001b[1;32m<ipython-input-25-1ba0379b2848>\u001b[0m in \u001b[0;36m<module>\u001b[1;34m\u001b[0m\n\u001b[1;32m----> 1\u001b[1;33m \u001b[1;32mimport\u001b[0m \u001b[0mLevenshtein\u001b[0m \u001b[1;32mas\u001b[0m \u001b[0mlev\u001b[0m\u001b[1;33m\u001b[0m\u001b[1;33m\u001b[0m\u001b[0m\n\u001b[0m",
      "\u001b[1;31mModuleNotFoundError\u001b[0m: No module named 'Levenshtein'"
     ]
    }
   ],
   "source": [
    "import Levenshtein as lev"
   ]
  },
  {
   "cell_type": "code",
   "execution_count": 28,
   "metadata": {},
   "outputs": [],
   "source": [
    "from fuzzywuzzy import fuzz"
   ]
  },
  {
   "cell_type": "code",
   "execution_count": 68,
   "metadata": {},
   "outputs": [],
   "source": [
    "from fuzzywuzzy import fuzz\n",
    "Str1 = \"The International Business Machines Corporation\"\n",
    "Str = [ \"General Motor LL\",\n",
    "        \"\\\\ General Motor LLc\",\n",
    "        \"General Motor O\",\n",
    "        \"SAIc General Motors corp ltdno 1500 shenjiang rd shanghai prc\",\n",
    "        \"SAIC General Motors corporation limited No. 1550, shen jiang road\",\n",
    "        \"SAIC GENERAL MOTORS CORPORATION LIMITED NO 1500 SHEN JIANG ROAD\",\n",
    "        \"SIAC GENERAL MOTORSCORPORATION LIMITED\",\n",
    "        \"The International Business Machines Corporation\",\n",
    "        \"General Electric\",\n",
    "        \"Long Term Care Group\"]\n"
   ]
  },
  {
   "cell_type": "code",
   "execution_count": null,
   "metadata": {},
   "outputs": [],
   "source": [
    "print(\"String 1  , String2 : Ratio Partial_Ratio Token_Sort_Ratio Token_Set_Ratio\")\n",
    "for i in Str:\n",
    "    for j in Str:\n",
    "        Ratio = fuzz.ratio(i.lower(),j.lower())\n",
    "        Partial_Ratio = fuzz.partial_ratio(i.lower(),j.lower())\n",
    "        Token_Sort_Ratio = fuzz.token_sort_ratio(i.lower(),j.lower())\n",
    "        Token_Set_Ratio = fuzz.token_set_ratio(i.lower(),j.lower())\n",
    "        #print(i,\" ,\",j,\" : \",Ratio,' ',Partial_Ratio,' ' ,Token_Sort_Ratio, ' ',Token_Set_Ratio)\n",
    "        print(i,\" ,\",j,\" : \",Partial_Ratio)"
   ]
  },
  {
   "cell_type": "code",
   "execution_count": 42,
   "metadata": {},
   "outputs": [
    {
     "name": "stdout",
     "output_type": "stream",
     "text": [
      "59\n",
      "74\n",
      "100\n"
     ]
    }
   ],
   "source": [
    "Str1 = \"united states v. nixon\"\n",
    "Str2 = \"Nixon v. United States\"\n",
    "Ratio = fuzz.ratio(Str1.lower(),Str2.lower())\n",
    "Partial_Ratio = fuzz.partial_ratio(Str1.lower(),Str2.lower())\n",
    "Token_Sort_Ratio = fuzz.token_sort_ratio(Str1,Str2)\n",
    "print(Ratio)\n",
    "print(Partial_Ratio)\n",
    "print(Token_Sort_Ratio)"
   ]
  },
  {
   "cell_type": "code",
   "execution_count": 50,
   "metadata": {},
   "outputs": [],
   "source": [
    "import csv\n",
    "with open('test.csv', 'w', newline='') as file:\n",
    "    writer = csv.writer(file)\n",
    "    writer.writerow([\"SN\", \"Name\", \"Contribution\"])\n",
    "    writer.writerow([1, \"Linus Torvalds\", \"Linux Kernel\"])\n",
    "    writer.writerow([2, \"Tim Berners-Lee\", \"World Wide Web\"])\n",
    "    writer.writerow([3, \"Guido van Rossum\", \"Python Programming\"])"
   ]
  },
  {
   "cell_type": "code",
   "execution_count": 55,
   "metadata": {},
   "outputs": [],
   "source": [
    "import csv\n",
    "with open('similar_score.csv', 'w', newline='') as file:\n",
    "    writer = csv.writer(file)\n",
    "    writer.writerow([\"String 1\" , \"String2\" ,\"Partial_Ratio\"])\n",
    "    for i in Str:\n",
    "        for j in Str:\n",
    "            Ratio = fuzz.ratio(i.lower(),j.lower())\n",
    "            Partial_Ratio = fuzz.partial_ratio(i.lower(),j.lower())\n",
    "            Token_Sort_Ratio = fuzz.token_sort_ratio(i.lower(),j.lower())\n",
    "            Token_Set_Ratio = fuzz.token_set_ratio(i.lower(),j.lower())\n",
    "            #print(i,\" ,\",j,\" : \",Ratio,' ',Partial_Ratio,' ' ,Token_Sort_Ratio, ' ',Token_Set_Ratio)\n",
    "            writer.writerow([i,j,Partial_Ratio])"
   ]
  },
  {
   "cell_type": "code",
   "execution_count": 69,
   "metadata": {},
   "outputs": [],
   "source": [
    "Ratios = process.extract(Str1,Str)"
   ]
  },
  {
   "cell_type": "code",
   "execution_count": 70,
   "metadata": {},
   "outputs": [
    {
     "name": "stdout",
     "output_type": "stream",
     "text": [
      "[('The International Business Machines Corporation', 100), ('SAIC General Motors corporation limited No. 1550, shen jiang road', 45), ('SAIC GENERAL MOTORS CORPORATION LIMITED NO 1500 SHEN JIANG ROAD', 45), ('SIAC GENERAL MOTORSCORPORATION LIMITED', 45), ('\\\\ General Motor LLc', 37)]\n"
     ]
    }
   ],
   "source": [
    "print(Ratios)"
   ]
  },
  {
   "cell_type": "code",
   "execution_count": null,
   "metadata": {},
   "outputs": [],
   "source": []
  }
 ],
 "metadata": {
  "kernelspec": {
   "display_name": "Python 3",
   "language": "python",
   "name": "python3"
  },
  "language_info": {
   "codemirror_mode": {
    "name": "ipython",
    "version": 3
   },
   "file_extension": ".py",
   "mimetype": "text/x-python",
   "name": "python",
   "nbconvert_exporter": "python",
   "pygments_lexer": "ipython3",
   "version": "3.8.3"
  }
 },
 "nbformat": 4,
 "nbformat_minor": 4
}
